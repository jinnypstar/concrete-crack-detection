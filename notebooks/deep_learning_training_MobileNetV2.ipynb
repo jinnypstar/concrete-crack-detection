{
  "nbformat": 4,
  "nbformat_minor": 0,
  "metadata": {
    "colab": {
      "provenance": [],
      "gpuType": "T4"
    },
    "kernelspec": {
      "name": "python3",
      "display_name": "Python 3"
    },
    "language_info": {
      "name": "python"
    },
    "accelerator": "GPU"
  },
  "cells": [
    {
      "cell_type": "code",
      "source": [
        "from google.colab import drive\n",
        "drive.mount('/content/drive')"
      ],
      "metadata": {
        "colab": {
          "base_uri": "https://localhost:8080/"
        },
        "id": "MeCZrdU1tr5B",
        "outputId": "7e0d1f35-bf68-410d-c977-fb564b223f7c"
      },
      "execution_count": null,
      "outputs": [
        {
          "output_type": "stream",
          "name": "stdout",
          "text": [
            "Mounted at /content/drive\n"
          ]
        }
      ]
    },
    {
      "cell_type": "markdown",
      "source": [
        "## 데이터 준비 (Data Preparation)\n",
        "- 데이터 경로 설정\n",
        "- 클래스별 이미지 개수 확인\n",
        "- 데이터셋 분할 (Train, Validation, Test)"
      ],
      "metadata": {
        "id": "jpVtWOEOgGZ5"
      }
    },
    {
      "cell_type": "code",
      "execution_count": null,
      "metadata": {
        "colab": {
          "base_uri": "https://localhost:8080/"
        },
        "id": "SJ9OTSWPXK3v",
        "outputId": "5f5574bf-4ce7-4d0b-92d8-8161cbf5944c"
      },
      "outputs": [
        {
          "output_type": "stream",
          "name": "stdout",
          "text": [
            "negative\n",
            "positive\n",
            "leng1=1000, leng2=1000\n",
            "leng1=1000, leng2=1000\n",
            "device=cuda\n"
          ]
        }
      ],
      "source": [
        "# 필수 라이브러리 불러오기\n",
        "\n",
        "import os\n",
        "import glob\n",
        "import torch\n",
        "import torch.nn as nn\n",
        "import torch.optim as optim\n",
        "from torch.utils.data import DataLoader, random_split\n",
        "from torchvision import datasets, transforms, models\n",
        "import matplotlib.pyplot as plt\n",
        "\n",
        "# 데이터 경로\n",
        "# - /content/drive/MyDrive/: Google Drive 경로\n",
        "data_dir = '/content/drive/MyDrive/crack/crack_1000'\n",
        "\n",
        "# 데이터 디렉토리 내 파일 및 폴더 목록 출력\n",
        "for path in os.listdir(data_dir):\n",
        "    print(path)\n",
        "\n",
        "# 'positive'과 'negative' 디렉토리 내 파일 개수 출력\n",
        "leng1 = len(os.listdir(data_dir + \"/positive\"))\n",
        "leng2 = len(os.listdir(data_dir + \"/negative\"))\n",
        "print(f\"leng1={leng1}, leng2={leng2}\")\n",
        "\n",
        "# 특정 폴더 내 JPG 파일 경로 리스트를 가져와서 정렬\n",
        "# - 이 코드는 긍정적(positive) 이미지와 부정적(negative) 이미지의 목록을 가져옴\n",
        "dir1 = glob.glob(data_dir + \"/positive/*.jpg\")\n",
        "dir2 = glob.glob(data_dir + \"/positive/*.jpg\")\n",
        "dir1.sort()\n",
        "dir2.sort()\n",
        "print(f\"leng1={len(dir1)}, leng2={len(dir2)}\")\n",
        "\n",
        "#print(dir1)\n",
        "#print(dir2)\n",
        "\n",
        "# 학습을 위한 디바이스 설정 (GPU가 사용 가능하면 'cuda', 그렇지 않으면 'cpu' 사용)\n",
        "# - torch: GPU인지 아닌지 확인\n",
        "device = torch.device(\"cuda\" if torch.cuda.is_available() else \"cpu\")\n",
        "print(f\"device={device}\")\n",
        "\n"
      ]
    },
    {
      "cell_type": "markdown",
      "source": [
        "## 하이퍼파라미터 설정 (Hyperparameter Setting)\n",
        "- 배치 크기 설정\n",
        "- 학습률 설정\n",
        "- 에포크 수 설정"
      ],
      "metadata": {
        "id": "t4l0J9cagK57"
      }
    },
    {
      "cell_type": "code",
      "source": [
        "# 하이퍼파라미터 설정\n",
        "batch_size = 64         # 배치 크기 설정 # 1400개 중에서 32개씩 묶어서 학습한다\n",
        "num_epochs = 10         # 학습할 에포크 수 설정\n",
        "learning_rate = 0.001   # 학습률 설정\n",
        "\n",
        "# 데이터 전처리\n",
        "# - Resize: 이미지를 224x224 크기로 조정\n",
        "# - ToTensor: 이미지를 텐서로 변환\n",
        "# - Normalize: 각 채널의 평균과 표준편차로 정규화\n",
        "transform = transforms.Compose([\n",
        "    transforms.Resize((224, 224)),\n",
        "    transforms.ToTensor(),\n",
        "    transforms.Normalize([0.485, 0.456, 0.406], [0.229, 0.224, 0.225])\n",
        "])\n",
        "\n",
        "# 데이터셋 로드\n",
        "full_dataset = datasets.ImageFolder(root=data_dir, transform=transform)\n",
        "# 전체 데이터 개수\n",
        "total_count = len(full_dataset)\n",
        "print(f\"Total number of images: {total_count}\")\n",
        "# 라벨,클래스 확인하기\n",
        "print(full_dataset.class_to_idx)\n",
        "\n"
      ],
      "metadata": {
        "colab": {
          "base_uri": "https://localhost:8080/"
        },
        "id": "btzwBkytul1K",
        "outputId": "5e3d682a-941f-487a-d8dc-9f903b4a27cb"
      },
      "execution_count": null,
      "outputs": [
        {
          "output_type": "stream",
          "name": "stdout",
          "text": [
            "Total number of images: 2000\n",
            "{'negative': 0, 'positive': 1}\n"
          ]
        }
      ]
    },
    {
      "cell_type": "markdown",
      "source": [
        "## 데이터 전처리 (Data Preprocessing)\n",
        "- 이미지 크기 조정 (224x224)\n",
        "- 텐서 변환\n",
        "- 정규화 (Normalize)"
      ],
      "metadata": {
        "id": "T89s_VbfgOrz"
      }
    },
    {
      "cell_type": "code",
      "source": [
        "train_size = int(0.7 * len(full_dataset))\n",
        "val_size = int(0.15 * len(full_dataset))\n",
        "test_size = len(full_dataset) - train_size - val_size\n",
        "train_dataset, val_dataset, test_dataset = random_split(full_dataset, [train_size, val_size, test_size])\n",
        "\n",
        "train_loader = DataLoader(train_dataset, batch_size=batch_size, shuffle=True)\n",
        "val_loader = DataLoader(val_dataset, batch_size=batch_size, shuffle=False)\n",
        "test_loader = DataLoader(test_dataset, batch_size=batch_size, shuffle=False)\n"
      ],
      "metadata": {
        "id": "p9ZRLQix3bO_"
      },
      "execution_count": null,
      "outputs": []
    },
    {
      "cell_type": "code",
      "source": [
        "print(f\"train_size={len(train_dataset)}\")\n",
        "print(f\"val_size={len(val_dataset)}\")\n",
        "print(f\"test_size={len(test_dataset)}\")\n",
        "\n",
        "\n",
        "# 배치 크기 및 전체 배치 수 확인\n",
        "print(f\"Batch size: {train_loader.batch_size}\")\n",
        "print(f\"Total number of batches per epoch: {len(train_loader)}\")\n"
      ],
      "metadata": {
        "colab": {
          "base_uri": "https://localhost:8080/"
        },
        "id": "DgLg5lS3uxgG",
        "outputId": "147db3c4-4a83-419d-d505-717bcde9f512"
      },
      "execution_count": null,
      "outputs": [
        {
          "output_type": "stream",
          "name": "stdout",
          "text": [
            "train_size=1400\n",
            "val_size=300\n",
            "test_size=300\n",
            "Batch size: 64\n",
            "Total number of batches per epoch: 22\n"
          ]
        }
      ]
    },
    {
      "cell_type": "markdown",
      "source": [
        "## 모델 및 손실 함수, 옵티마이저 설정 (Model, Loss Function & Optimizer Setup)\n",
        "- MobileNetV2 모델 불러오기 (pretrained=True를 통해 사전 학습된 가중치 사용)\n",
        "- 출력 레이어 수정 (이진 분류에 맞게)\n",
        "\n",
        "\n",
        "- 손실 함수: CrossEntropyLoss\n",
        "- 옵티마이저: Adam (learning rate 설정)"
      ],
      "metadata": {
        "id": "XIjotMchgSnb"
      }
    },
    {
      "cell_type": "code",
      "source": [
        "# 1. MobileNetV2 모델 불러오기 (pretrained=True를 통해 사전 학습된 가중치 사용)\n",
        "model = models.mobilenet_v2(pretrained=True)\n",
        "# 출력 레이어 수정 (이진 분류)\n",
        "model.classifier[1] = nn.Linear(model.classifier[1].in_features, 2)\n",
        "model = model.to(device)\n",
        "\n",
        "# 손실 함수와 옵티마이저 설정\n",
        "criterion = nn.CrossEntropyLoss()\n",
        "optimizer = optim.Adam(model.parameters(), lr=learning_rate)"
      ],
      "metadata": {
        "colab": {
          "base_uri": "https://localhost:8080/"
        },
        "id": "VuDfGFRjutFM",
        "outputId": "5bb56aae-b71e-47ab-8434-d8682bd7a734"
      },
      "execution_count": null,
      "outputs": [
        {
          "output_type": "stream",
          "name": "stderr",
          "text": [
            "/usr/local/lib/python3.10/dist-packages/torchvision/models/_utils.py:208: UserWarning: The parameter 'pretrained' is deprecated since 0.13 and may be removed in the future, please use 'weights' instead.\n",
            "  warnings.warn(\n",
            "/usr/local/lib/python3.10/dist-packages/torchvision/models/_utils.py:223: UserWarning: Arguments other than a weight enum or `None` for 'weights' are deprecated since 0.13 and may be removed in the future. The current behavior is equivalent to passing `weights=MobileNet_V2_Weights.IMAGENET1K_V1`. You can also use `weights=MobileNet_V2_Weights.DEFAULT` to get the most up-to-date weights.\n",
            "  warnings.warn(msg)\n",
            "Downloading: \"https://download.pytorch.org/models/mobilenet_v2-b0353104.pth\" to /root/.cache/torch/hub/checkpoints/mobilenet_v2-b0353104.pth\n",
            "100%|██████████| 13.6M/13.6M [00:00<00:00, 94.9MB/s]\n"
          ]
        }
      ]
    },
    {
      "cell_type": "markdown",
      "source": [
        "## 학습 및 검증 함수 정의 (Define Train and Validation Functions)\n",
        "- train 함수: 학습 데이터로 모델의 가중치를 업데이트\n",
        "- validate 함수: 검증 데이터를 통해 모델의 성능 평가"
      ],
      "metadata": {
        "id": "_zhc5OCOgsjy"
      }
    },
    {
      "cell_type": "code",
      "source": [
        "# 학습 및 검증 함수 정의\n",
        "def train(model, loader, criterion, optimizer):\n",
        "    model.train()\n",
        "    running_loss = 0.0\n",
        "    correct = 0\n",
        "    total = 0\n",
        "    num_batches = len(loader)\n",
        "    print(f\"num_batches={num_batches}\")\n",
        "\n",
        "    for i, (images, labels) in enumerate(loader):\n",
        "        print(f\"[{i+1}/{num_batches}]\", end=\" \")\n",
        "        images, labels = images.to(device), labels.to(device)\n",
        "        # print(f\"images.shape={images.shape}\")\n",
        "        # print(f\"labels.shape={labels.shape}\")\n",
        "        # print(f\"labels={labels}\")\n",
        "        optimizer.zero_grad()\n",
        "        outputs = model(images)\n",
        "        loss = criterion(outputs, labels)\n",
        "        loss.backward()\n",
        "        optimizer.step()\n",
        "\n",
        "        running_loss += loss.item() * images.size(0)\n",
        "\n",
        "        _, predicted = torch.max(outputs, 1)\n",
        "        total += labels.size(0)\n",
        "        correct += (predicted == labels).sum().item()\n",
        "\n",
        "    return running_loss / total, correct / total\n",
        "\n",
        "def validate(model, loader, criterion):\n",
        "    model.eval()\n",
        "    running_loss = 0.0\n",
        "    correct = 0\n",
        "    total = 0\n",
        "    with torch.no_grad():\n",
        "        for images, labels in loader:\n",
        "            images, labels = images.to(device), labels.to(device)\n",
        "            outputs = model(images)\n",
        "            loss = criterion(outputs, labels)\n",
        "\n",
        "            running_loss += loss.item() * images.size(0)\n",
        "            _, predicted = torch.max(outputs, 1)\n",
        "            total += labels.size(0)\n",
        "            correct += (predicted == labels).sum().item()\n",
        "\n",
        "    return running_loss / total, correct / total\n"
      ],
      "metadata": {
        "id": "Hk50D5UAYHNG"
      },
      "execution_count": null,
      "outputs": []
    },
    {
      "cell_type": "markdown",
      "source": [
        "## 학습 수행 (Training Process)\n",
        "- 각 에포크마다 train과 validate 함수를 호출하여 학습 및 검증 수행\n",
        "- 손실과 정확도를 기록"
      ],
      "metadata": {
        "id": "DTCBnJjsgvaX"
      }
    },
    {
      "cell_type": "code",
      "source": [
        "# 학습 및 검증 기록을 위한 리스트\n",
        "train_losses = []\n",
        "val_losses = []\n",
        "val_accuracies = []\n",
        "\n",
        "# 학습 과정\n",
        "for epoch in range(num_epochs):\n",
        "    train_loss, train_acc = train(model, train_loader, criterion, optimizer)\n",
        "    val_loss, val_acc = validate(model, val_loader, criterion)\n",
        "\n",
        "    train_losses.append(train_loss)\n",
        "    val_losses.append(val_loss)\n",
        "    val_accuracies.append(val_acc)\n",
        "\n",
        "    print(f\"Epoch [{epoch+1}/{num_epochs}], Train Loss: {train_loss:.4f}, Validation Loss: {val_loss:.4f}, Validation Accuracy: {val_acc:.4f}\")\n",
        "\n",
        "\n",
        "\n"
      ],
      "metadata": {
        "id": "Ia_w2epIYNej",
        "colab": {
          "base_uri": "https://localhost:8080/"
        },
        "outputId": "82c0c2af-1e38-4c41-f7ac-223f1da6b8a1"
      },
      "execution_count": null,
      "outputs": [
        {
          "output_type": "stream",
          "name": "stdout",
          "text": [
            "num_batches=22\n",
            "[1/22] [2/22] [3/22] [4/22] [5/22] [6/22] [7/22] [8/22] [9/22] [10/22] [11/22] [12/22] [13/22] [14/22] [15/22] [16/22] [17/22] [18/22] [19/22] [20/22] [21/22] [22/22] Epoch [1/10], Train Loss: 0.0583, Validation Loss: 0.0768, Validation Accuracy: 0.9933\n",
            "num_batches=22\n",
            "[1/22] [2/22] [3/22] [4/22] [5/22] [6/22] [7/22] [8/22] [9/22] [10/22] [11/22] [12/22] [13/22] [14/22] [15/22] [16/22] [17/22] [18/22] [19/22] [20/22] [21/22] [22/22] Epoch [2/10], Train Loss: 0.0021, Validation Loss: 0.0710, Validation Accuracy: 0.9933\n",
            "num_batches=22\n",
            "[1/22] [2/22] [3/22] [4/22] [5/22] [6/22] [7/22] [8/22] [9/22] [10/22] [11/22] [12/22] [13/22] [14/22] [15/22] [16/22] [17/22] [18/22] [19/22] [20/22] [21/22] [22/22] Epoch [3/10], Train Loss: 0.0172, Validation Loss: 0.0002, Validation Accuracy: 1.0000\n",
            "num_batches=22\n",
            "[1/22] [2/22] [3/22] [4/22] [5/22] [6/22] [7/22] [8/22] [9/22] [10/22] [11/22] [12/22] [13/22] [14/22] [15/22] [16/22] [17/22] [18/22] [19/22] [20/22] [21/22] [22/22] Epoch [4/10], Train Loss: 0.0117, Validation Loss: 0.0019, Validation Accuracy: 1.0000\n",
            "num_batches=22\n",
            "[1/22] [2/22] [3/22] [4/22] [5/22] [6/22] [7/22] [8/22] [9/22] [10/22] [11/22] [12/22] [13/22] [14/22] [15/22] [16/22] [17/22] [18/22] [19/22] [20/22] [21/22] [22/22] Epoch [5/10], Train Loss: 0.0102, Validation Loss: 0.0015, Validation Accuracy: 1.0000\n",
            "num_batches=22\n",
            "[1/22] [2/22] [3/22] [4/22] [5/22] [6/22] [7/22] [8/22] [9/22] [10/22] [11/22] [12/22] [13/22] [14/22] [15/22] [16/22] [17/22] [18/22] [19/22] [20/22] [21/22] [22/22] Epoch [6/10], Train Loss: 0.0115, Validation Loss: 0.0365, Validation Accuracy: 0.9967\n",
            "num_batches=22\n",
            "[1/22] [2/22] [3/22] [4/22] [5/22] [6/22] [7/22] [8/22] [9/22] [10/22] [11/22] [12/22] [13/22] [14/22] [15/22] [16/22] [17/22] [18/22] [19/22] [20/22] [21/22] [22/22] Epoch [7/10], Train Loss: 0.0068, Validation Loss: 0.0027, Validation Accuracy: 1.0000\n",
            "num_batches=22\n",
            "[1/22] [2/22] [3/22] [4/22] [5/22] [6/22] [7/22] [8/22] [9/22] [10/22] [11/22] [12/22] [13/22] [14/22] [15/22] [16/22] [17/22] [18/22] [19/22] [20/22] [21/22] [22/22] Epoch [8/10], Train Loss: 0.0040, Validation Loss: 0.0002, Validation Accuracy: 1.0000\n",
            "num_batches=22\n",
            "[1/22] [2/22] [3/22] [4/22] [5/22] [6/22] [7/22] [8/22] [9/22] [10/22] [11/22] [12/22] [13/22] [14/22] [15/22] [16/22] [17/22] [18/22] [19/22] [20/22] [21/22] [22/22] Epoch [9/10], Train Loss: 0.0003, Validation Loss: 0.0010, Validation Accuracy: 1.0000\n",
            "num_batches=22\n",
            "[1/22] [2/22] [3/22] [4/22] [5/22] [6/22] [7/22] [8/22] [9/22] [10/22] [11/22] [12/22] [13/22] [14/22] [15/22] [16/22] [17/22] [18/22] [19/22] [20/22] [21/22] [22/22] Epoch [10/10], Train Loss: 0.0013, Validation Loss: 0.0036, Validation Accuracy: 1.0000\n"
          ]
        }
      ]
    },
    {
      "cell_type": "markdown",
      "source": [
        "## 학습 결과 시각화 (Visualization of Training Results)\n",
        "- 학습 손실 및 검증 손실을 그래프로 시각화\n",
        "- 검증 정확도 변화 시각화"
      ],
      "metadata": {
        "id": "SVAg1Ia3gxbj"
      }
    },
    {
      "cell_type": "code",
      "source": [
        "# 학습 결과 시각화\n",
        "plt.figure(figsize=(12, 4))\n",
        "plt.subplot(1, 2, 1)\n",
        "plt.plot(train_losses, label='Train Loss')\n",
        "plt.plot(val_losses, label='Validation Loss')\n",
        "plt.xlabel('Epoch')\n",
        "plt.ylabel('Loss')\n",
        "plt.legend()\n",
        "plt.title('Training and Validation Loss')\n",
        "\n",
        "plt.subplot(1, 2, 2)\n",
        "plt.plot(val_accuracies, label='Validation Accuracy')\n",
        "plt.xlabel('Epoch')\n",
        "plt.ylabel('Accuracy')\n",
        "plt.legend()\n",
        "plt.title('Validation Accuracy')\n",
        "plt.show()"
      ],
      "metadata": {
        "colab": {
          "base_uri": "https://localhost:8080/",
          "height": 266
        },
        "id": "R1rJbshOvhMx",
        "outputId": "5e301673-c3f0-4035-dd15-fef573e8096f"
      },
      "execution_count": null,
      "outputs": [
        {
          "output_type": "display_data",
          "data": {
            "text/plain": [
              "<Figure size 1200x400 with 2 Axes>"
            ],
            "image/png": "[encoded data removed]"
          },
          "metadata": {}
        }
      ]
    },
    {
      "cell_type": "markdown",
      "source": [
        "## 태스트 데이터로 평가 (Evaluation on Test Data)\n",
        "- 테스트 데이터를 이용하여 모델의 최종 성능 평가\n",
        "- 테스트 손실 및 정확도 출력"
      ],
      "metadata": {
        "id": "nJad4yFgg0Dp"
      }
    },
    {
      "cell_type": "code",
      "source": [
        "# 테스트 데이터로 평가\n",
        "test_loss, test_acc = validate(model, test_loader, criterion)\n",
        "print(f\"Test Loss: {test_loss:.4f}, Test Accuracy: {test_acc:.4f}\")"
      ],
      "metadata": {
        "colab": {
          "base_uri": "https://localhost:8080/"
        },
        "id": "7RlpINCgvnO1",
        "outputId": "37ce2a40-03ba-473a-de6f-9be5f4211fd4"
      },
      "execution_count": null,
      "outputs": [
        {
          "output_type": "stream",
          "name": "stdout",
          "text": [
            "Test Loss: 0.0051, Test Accuracy: 1.0000\n"
          ]
        }
      ]
    },
    {
      "cell_type": "markdown",
      "source": [
        "## 모델 가중치 저장 (Save Model Weights)\n",
        "- 학습이 완료된 모델의 가중치를 파일로 저장하여 나중에 재사용할 수 있도록 함"
      ],
      "metadata": {
        "id": "L9CjKWOUg2JI"
      }
    },
    {
      "cell_type": "code",
      "source": [
        "save_path = '/content/drive/MyDrive/crack/mobilenet_v2_weights.pth'\n",
        "\n",
        "# 모델의 가중치를 저장\n",
        "torch.save(model.state_dict(), save_path)"
      ],
      "metadata": {
        "id": "q7J7Hzc79ZpU"
      },
      "execution_count": null,
      "outputs": []
    },
    {
      "cell_type": "code",
      "source": [],
      "metadata": {
        "id": "3_pMrsztEbwK"
      },
      "execution_count": null,
      "outputs": []
    }
  ]
}